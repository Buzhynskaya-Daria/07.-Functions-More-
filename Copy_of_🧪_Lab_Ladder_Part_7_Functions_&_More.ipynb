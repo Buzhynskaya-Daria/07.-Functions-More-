{
  "cells": [
    {
      "cell_type": "markdown",
      "metadata": {
        "id": "view-in-github",
        "colab_type": "text"
      },
      "source": [
        "<a href=\"https://colab.research.google.com/github/Buzhynskaya-Daria/07.-Functions-More-/blob/main/Copy_of_%F0%9F%A7%AA_Lab_Ladder_Part_7_Functions_%26_More.ipynb\" target=\"_parent\"><img src=\"https://colab.research.google.com/assets/colab-badge.svg\" alt=\"Open In Colab\"/></a>"
      ]
    },
    {
      "cell_type": "markdown",
      "metadata": {
        "id": "1xbyIYOxEjtO"
      },
      "source": [
        "<div>\n",
        "<img src=\"https://coursereport-s3-production.global.ssl.fastly.net/uploads/school/logo/219/original/CT_LOGO_NEW.jpg\" width=60>\n",
        "</div>\n",
        "\n",
        "# **Python Ladder Challenges - Functions & More**"
      ]
    },
    {
      "cell_type": "markdown",
      "metadata": {
        "id": "KnVBAM15EjtU"
      },
      "source": [
        "# Climb the Ladder!\n",
        "Welcome to Part 7 and our last rung of our ladder! Our class moves quickly! Sometimes, it feels like we make leaps in logic that are a bit too big. Learn Python _slowly_, by doing many, many examples. Problems in this notebook start out easy and progressively get harder, so that the next rung of the Python ladder is always within reach."
      ]
    },
    {
      "cell_type": "markdown",
      "metadata": {
        "id": "0WFphiTrFLcI"
      },
      "source": [
        "# Section X: Functions\n",
        "In this section, every question gives example(s). You can (but don't need to) name your function accordingly. You _should_ test out the example to make sure your function works properly. If the example doesn't work, your answer is likely incorrect."
      ]
    },
    {
      "cell_type": "markdown",
      "metadata": {
        "id": "gZzmuBjYFLcJ"
      },
      "source": [
        "83) Write a function to compute the area of a triangle. You only need the base and height of a triangle to compute its area.\n",
        "\n",
        "* _Example:_ `area_triangle(5, 4) == 10.0`"
      ]
    },
    {
      "cell_type": "code",
      "execution_count": 2,
      "metadata": {
        "id": "qzWy3zmlFLcK"
      },
      "outputs": [],
      "source": [
        "def area_triangle(base, height):\n",
        "    return 0.5 * base * height\n",
        ""
      ]
    },
    {
      "cell_type": "code",
      "source": [
        "print(area_triangle(5, 4))"
      ],
      "metadata": {
        "id": "8DXq0Wk8WVmA",
        "colab": {
          "base_uri": "https://localhost:8080/"
        },
        "outputId": "376bacc0-c5d5-47c1-867e-27ef051ef6c9"
      },
      "execution_count": 3,
      "outputs": [
        {
          "output_type": "stream",
          "name": "stdout",
          "text": [
            "10.0\n"
          ]
        }
      ]
    },
    {
      "cell_type": "markdown",
      "metadata": {
        "id": "BV32BFZIFLcL"
      },
      "source": [
        "84) Import `pi` from `math` and write a function to compute the area of a circle. You only need the radius of a circle to compute its area.\n",
        "\n",
        "* _Example:_ `area_circle(10) == 314.159...`"
      ]
    },
    {
      "cell_type": "code",
      "execution_count": 4,
      "metadata": {
        "id": "g_BqUW8HFLcL"
      },
      "outputs": [],
      "source": [
        "from math import pi\n",
        "\n",
        "def area_circle(radius):\n",
        "    return pi * radius ** 2"
      ]
    },
    {
      "cell_type": "code",
      "source": [
        "print(area_circle(10))"
      ],
      "metadata": {
        "id": "WCtCDsdXWWCE",
        "colab": {
          "base_uri": "https://localhost:8080/"
        },
        "outputId": "ccfce780-e307-4943-8d29-31679ac3fd32"
      },
      "execution_count": 5,
      "outputs": [
        {
          "output_type": "stream",
          "name": "stdout",
          "text": [
            "314.1592653589793\n"
          ]
        }
      ]
    },
    {
      "cell_type": "markdown",
      "metadata": {
        "id": "8c4ZLkunFLcL"
      },
      "source": [
        "85) Write a function that takes in a number `max_num` and returns the sum of the numbers 1 through `max_num` (inclusive).\n",
        "* _Example:_ `sum_n(5) == 1 + 2 + 3 + 4 + 5 == 15`"
      ]
    },
    {
      "cell_type": "code",
      "execution_count": 6,
      "metadata": {
        "id": "ubp36JlIFLcM"
      },
      "outputs": [],
      "source": [
        "sum_n = lambda max_num: sum(range(1, max_num + 1))"
      ]
    },
    {
      "cell_type": "code",
      "source": [
        "print(sum_n(5))"
      ],
      "metadata": {
        "id": "Lt-Xl4ZnWWgT",
        "colab": {
          "base_uri": "https://localhost:8080/"
        },
        "outputId": "b4e50e80-217b-4250-d3ec-0728cdc38814"
      },
      "execution_count": 7,
      "outputs": [
        {
          "output_type": "stream",
          "name": "stdout",
          "text": [
            "15\n"
          ]
        }
      ]
    },
    {
      "cell_type": "markdown",
      "metadata": {
        "id": "ZfPdeeuOFLcM"
      },
      "source": [
        "86) Write a function that takes in a number `max_num` and returns the sum of the square of the numbers 1 through `max_num` (inclusive).\n",
        "* `sum_squares(5) == 1 + 4 + 9 + 16 + 25 == 55`"
      ]
    },
    {
      "cell_type": "code",
      "execution_count": 9,
      "metadata": {
        "id": "7pNIBrY7FLcN"
      },
      "outputs": [],
      "source": [
        "sum_squares = lambda max_num: sum([i ** 2 for i in range(1, max_num + 1)])"
      ]
    },
    {
      "cell_type": "code",
      "source": [
        "print(sum_squares(5))"
      ],
      "metadata": {
        "id": "TEBwbc8FWXCa",
        "colab": {
          "base_uri": "https://localhost:8080/"
        },
        "outputId": "2d866eb9-2eef-4399-ccb6-b4c0c6fd95e9"
      },
      "execution_count": 10,
      "outputs": [
        {
          "output_type": "stream",
          "name": "stdout",
          "text": [
            "55\n"
          ]
        }
      ]
    },
    {
      "cell_type": "markdown",
      "metadata": {
        "id": "RDscR9QeFLcO"
      },
      "source": [
        "87) Write a function that takes a number (an amount in euros) and convert it to U.S. dollars. There are 1.1 U.S. dollars per euro.\n",
        "* `to_dollar(10) == 11.0`"
      ]
    },
    {
      "cell_type": "code",
      "execution_count": 11,
      "metadata": {
        "id": "l85NL6f4FLcO"
      },
      "outputs": [],
      "source": [
        "convert_to_dollar = lambda euros: euros * 1.1"
      ]
    },
    {
      "cell_type": "code",
      "source": [
        "print(convert_to_dollar(10))"
      ],
      "metadata": {
        "id": "HkaoClouWYES",
        "colab": {
          "base_uri": "https://localhost:8080/"
        },
        "outputId": "dacb7842-f681-4209-eb81-4191671a5b9a"
      },
      "execution_count": 12,
      "outputs": [
        {
          "output_type": "stream",
          "name": "stdout",
          "text": [
            "11.0\n"
          ]
        }
      ]
    },
    {
      "cell_type": "markdown",
      "metadata": {
        "id": "fvDHr1T6FLcP"
      },
      "source": [
        "88) Write a function that takes a list of numbers (amounts in euros), and returns them converted to dollars. Use your answer to the previous question in your answer to this question.\n",
        "* _Example:_ `to_dollar_list([1, 10, 100]) == [1.1, 11.0, 110.0]`\n",
        "* _Note:_ You may get some decimal weirdness here."
      ]
    },
    {
      "cell_type": "code",
      "execution_count": 18,
      "metadata": {
        "id": "Wv9LDP2dFLcP"
      },
      "outputs": [],
      "source": [
        "convert_to_dollar_list = lambda euros_list: [convert_to_dollar(i) for i in euros_list]"
      ]
    },
    {
      "cell_type": "code",
      "source": [
        "print(convert_to_dollar_list([1, 10, 100]))"
      ],
      "metadata": {
        "id": "dbqpQkQaWYmr",
        "colab": {
          "base_uri": "https://localhost:8080/"
        },
        "outputId": "16a1de89-d130-42bd-d21f-2f85b530e2f7"
      },
      "execution_count": 20,
      "outputs": [
        {
          "output_type": "stream",
          "name": "stdout",
          "text": [
            "[1.1, 11.0, 110.00000000000001]\n"
          ]
        }
      ]
    },
    {
      "cell_type": "markdown",
      "metadata": {
        "id": "dak5WMDwFLcP"
      },
      "source": [
        "89) Write a function that takes a number (a person's height) and returns \"Tall enough\" if they are at least 5 feet (60 inches) or \"Too short\" if they are below 5 feet.\n",
        "* _Example:_ `is_tall(72) == 'Tall enough'`\n",
        "* _Example:_ `is_tall(52) == 'Too short'`"
      ]
    },
    {
      "cell_type": "code",
      "execution_count": 21,
      "metadata": {
        "id": "cPaa_m58FLcP"
      },
      "outputs": [],
      "source": [
        "height = lambda person_height: 'Tall enough' if person_height >= 60 else 'Too short'"
      ]
    },
    {
      "cell_type": "code",
      "source": [
        "print(height(72))\n",
        "print(height(52))"
      ],
      "metadata": {
        "id": "djGQzF6SWZD_",
        "colab": {
          "base_uri": "https://localhost:8080/"
        },
        "outputId": "5902418d-ab01-4ae5-c337-0911c45c2b02"
      },
      "execution_count": 22,
      "outputs": [
        {
          "output_type": "stream",
          "name": "stdout",
          "text": [
            "Tall enough\n",
            "Too short\n"
          ]
        }
      ]
    },
    {
      "cell_type": "markdown",
      "metadata": {
        "id": "cuaeoA5VFLcP"
      },
      "source": [
        "90) Write a function that takes a list of numbers (peoples' heights) and returns a list of strings \"Tall enough\" or \"Too short\" as in the previous problem. Use your answer to the previous problem to help answer this problem.\n",
        "* _Example:_ `is_tall_list([58, 70, 60]) == ['Too short', 'Tall enough', 'Tall enough']`"
      ]
    },
    {
      "cell_type": "code",
      "execution_count": 24,
      "metadata": {
        "id": "1mniJnyEFLcQ"
      },
      "outputs": [],
      "source": [
        "height = lambda person_height: 'Tall enough' if person_height >= 60 else 'Too short'\n",
        "is_tall_list = lambda heights: [height(i) for i in heights]"
      ]
    },
    {
      "cell_type": "code",
      "source": [
        "print(is_tall_list([58, 70, 60]))"
      ],
      "metadata": {
        "id": "qNKS1vlNWZaf",
        "colab": {
          "base_uri": "https://localhost:8080/"
        },
        "outputId": "16d5453a-971e-4887-cbbd-b868852069d0"
      },
      "execution_count": 25,
      "outputs": [
        {
          "output_type": "stream",
          "name": "stdout",
          "text": [
            "['Too short', 'Tall enough', 'Tall enough']\n"
          ]
        }
      ]
    },
    {
      "cell_type": "markdown",
      "metadata": {
        "id": "6apc-oDjFLcQ"
      },
      "source": [
        "91) Write a function that takes in a numeric grade (0 to 100) and returns the letter grade (no pluses or minuses). In a traditional rubric, that would be as follows:\n",
        "\n",
        "* 90 or above = A\n",
        "* 80 - 89 = B\n",
        "* 70 - 79 = C\n",
        "* 60 - 69 = D\n",
        "* 59 or below = F\n",
        "    \n",
        "    \n",
        "* _Example:_ `letter_grade(85) == 'B'`"
      ]
    },
    {
      "cell_type": "code",
      "execution_count": 27,
      "metadata": {
        "id": "lrHevVNWFLcQ"
      },
      "outputs": [],
      "source": [
        "grade = lambda numeric_grade: 'A' if numeric_grade >= 90 else 'B' if numeric_grade >= 80 else 'C' if numeric_grade >= 70 else 'D' if numeric_grade >= 60 else 'F'"
      ]
    },
    {
      "cell_type": "code",
      "source": [
        "print(grade(85))"
      ],
      "metadata": {
        "id": "hKNPnoIWWZ2U",
        "colab": {
          "base_uri": "https://localhost:8080/"
        },
        "outputId": "4c593e18-feae-42be-e051-c59b1be03c2b"
      },
      "execution_count": 28,
      "outputs": [
        {
          "output_type": "stream",
          "name": "stdout",
          "text": [
            "B\n"
          ]
        }
      ]
    },
    {
      "cell_type": "markdown",
      "metadata": {
        "id": "Y1zuLwl2FLcR"
      },
      "source": [
        "92) Write _another_ function that takes a list of numeric grades and returns their letter grades. Use the function written above in your answer.\n",
        "\n",
        "* _Example:_ `letter_grades([85, 62, 90]) == ['B', 'D', 'A']`"
      ]
    },
    {
      "cell_type": "code",
      "execution_count": 29,
      "metadata": {
        "id": "4XKGdthLFLcR"
      },
      "outputs": [],
      "source": [
        "grade = lambda numeric_grade: 'A' if numeric_grade >= 90 else 'B' if numeric_grade >= 80 else 'C' if numeric_grade >= 70 else 'D' if numeric_grade >= 60 else 'F'"
      ]
    },
    {
      "cell_type": "code",
      "source": [
        "letter_grades = lambda numeric_grades: [grade(i) for i in numeric_grades]\n",
        "print(letter_grades([85, 62, 90]))"
      ],
      "metadata": {
        "id": "1pA0mpelWaSp",
        "colab": {
          "base_uri": "https://localhost:8080/"
        },
        "outputId": "e0114355-631f-4ca3-e839-e36ad7f46750"
      },
      "execution_count": 30,
      "outputs": [
        {
          "output_type": "stream",
          "name": "stdout",
          "text": [
            "['B', 'D', 'A']\n"
          ]
        }
      ]
    },
    {
      "cell_type": "markdown",
      "metadata": {
        "id": "PfqetB8_FLcR"
      },
      "source": [
        "93) Write a function that takes in a string and returns the number of vowels in that string. (No, y is not a vowel).\n",
        "* _Example:_ `vowel_count('Coding Temple') == 4`"
      ]
    },
    {
      "cell_type": "code",
      "source": [
        "count = lambda string: sum([1 for i in string if i in 'aeiouAEIOU'])"
      ],
      "metadata": {
        "id": "aiKNKcPVWarp"
      },
      "execution_count": 32,
      "outputs": []
    },
    {
      "cell_type": "code",
      "execution_count": 33,
      "metadata": {
        "id": "F-CPML9cFLcR",
        "colab": {
          "base_uri": "https://localhost:8080/"
        },
        "outputId": "b6d043bf-8c10-46ce-bc6c-1fc65eebc426"
      },
      "outputs": [
        {
          "output_type": "stream",
          "name": "stdout",
          "text": [
            "4\n"
          ]
        }
      ],
      "source": [
        "print(count('Coding Temple'))"
      ]
    },
    {
      "cell_type": "markdown",
      "metadata": {
        "id": "SadHXb9OFLcR"
      },
      "source": [
        "94) Write a function that takes in a string and returns that string with its consonants lowercased and vowels uppercased.\n",
        "\n",
        "* _Example:_ `toggle_case('Coding Temple') == 'cOdIng tEmplE'`"
      ]
    },
    {
      "cell_type": "code",
      "execution_count": 35,
      "metadata": {
        "id": "m2c4tZttFLcS"
      },
      "outputs": [],
      "source": [
        "def toggle_case(string):\n",
        "    return ''.join([i.upper() if i in 'aeiouAEIOU' else i.lower() for i in string])"
      ]
    },
    {
      "cell_type": "code",
      "source": [
        "print(toggle_case('Coding Temple'))"
      ],
      "metadata": {
        "id": "49TshvV_WbBI",
        "colab": {
          "base_uri": "https://localhost:8080/"
        },
        "outputId": "69554520-ddda-49a4-c440-e440b5df2ba7"
      },
      "execution_count": 36,
      "outputs": [
        {
          "output_type": "stream",
          "name": "stdout",
          "text": [
            "cOdIng tEmplE\n"
          ]
        }
      ]
    },
    {
      "cell_type": "markdown",
      "metadata": {
        "id": "P1lLUyKCFLcS"
      },
      "source": [
        "95) Write a function that takes in a string and returns that string with its vowels removed.\n",
        "* _Example:_ `disemvowel('Python is my favorite language') == 'Pythn s my fvrt lngg'`"
      ]
    },
    {
      "cell_type": "code",
      "execution_count": 38,
      "metadata": {
        "id": "PfG41rqlFLcS"
      },
      "outputs": [],
      "source": [
        "def disemvowel(string):\n",
        "    return ''.join([i for i in string if i not in 'aeiouAEIOU'])"
      ]
    },
    {
      "cell_type": "code",
      "source": [
        "print(disemvowel('Python is my favorite language'))"
      ],
      "metadata": {
        "id": "tjhk6UzWWbdN",
        "colab": {
          "base_uri": "https://localhost:8080/"
        },
        "outputId": "4f0c9fc5-5680-4759-8319-6dcff226ba5e"
      },
      "execution_count": 39,
      "outputs": [
        {
          "output_type": "stream",
          "name": "stdout",
          "text": [
            "Pythn s my fvrt lngg\n"
          ]
        }
      ]
    },
    {
      "cell_type": "markdown",
      "metadata": {
        "id": "6f9iQ5uiFLcS"
      },
      "source": [
        "96) Write a function that takes in a string and returns that string with its vowels removed _unless it's a one-letter word_, in which case leave the vowel intact. You should use your answer in the previous problem to answer this.\n",
        "* _Example:_ `smart_disemvowel('I love Python programming') == 'I lv Pythn prgrmmng'`"
      ]
    },
    {
      "cell_type": "code",
      "execution_count": 43,
      "metadata": {
        "id": "D94iattKFLcS"
      },
      "outputs": [],
      "source": [
        "def smart_disemvowel(string):\n",
        "    return ' '.join([disemvowel(i) if len(i) > 1 else i for i in string.split()])"
      ]
    },
    {
      "cell_type": "code",
      "source": [
        "print(smart_disemvowel('I love Python programming'))"
      ],
      "metadata": {
        "id": "eaKQJ2fvWb2H",
        "colab": {
          "base_uri": "https://localhost:8080/"
        },
        "outputId": "9799cc07-f99b-43de-f6cd-7656e4bfcff8"
      },
      "execution_count": 44,
      "outputs": [
        {
          "output_type": "stream",
          "name": "stdout",
          "text": [
            "I lv Pythn prgrmmng\n"
          ]
        }
      ]
    },
    {
      "cell_type": "markdown",
      "metadata": {
        "id": "n4znURoiFLcT"
      },
      "source": [
        "97) Write a function that takes in a string (likely multiple words long) and returns that string with the order of the words reversed.\n",
        "* _Example:_ `word_reverser('Data analytics is cool') == 'cool is analytics Data'`"
      ]
    },
    {
      "cell_type": "code",
      "source": [
        "def word_reverser(string):\n",
        "    return ' '.join(string.split()[::-1])"
      ],
      "metadata": {
        "id": "CqW-8YyHWcPw"
      },
      "execution_count": 46,
      "outputs": []
    },
    {
      "cell_type": "code",
      "execution_count": 47,
      "metadata": {
        "id": "Cr-A9V3SFLcT",
        "colab": {
          "base_uri": "https://localhost:8080/"
        },
        "outputId": "f950a35a-d0c4-4023-93ba-c75eee92c5d5"
      },
      "outputs": [
        {
          "output_type": "stream",
          "name": "stdout",
          "text": [
            "cool is analytics Data\n"
          ]
        }
      ],
      "source": [
        "print(word_reverser('Data analytics is cool'))"
      ]
    },
    {
      "cell_type": "markdown",
      "metadata": {
        "id": "10hoHSNBFLcT"
      },
      "source": [
        "98) Write a function that takes in a string (likely multiple words long) and returns that string with each word reversed, but with the words in the same order.\n",
        "* _Example:_ `letter_reverser('Data analytics is cool') == 'ataD scitylana si looc'`"
      ]
    },
    {
      "cell_type": "code",
      "source": [
        "def letter_reverser(input_string):\n",
        "    words = input_string.split()\n",
        "    reversed_words = [word[::-1] for word in words]\n",
        "    return ' '.join(reversed_words)"
      ],
      "metadata": {
        "id": "32BPW6kdWckP"
      },
      "execution_count": 49,
      "outputs": []
    },
    {
      "cell_type": "code",
      "execution_count": 50,
      "metadata": {
        "id": "5Ce4pxynFLcT",
        "colab": {
          "base_uri": "https://localhost:8080/"
        },
        "outputId": "dc520116-fdc8-47fa-d026-e11fa20838d2"
      },
      "outputs": [
        {
          "output_type": "stream",
          "name": "stdout",
          "text": [
            "ataD scitylana si looc\n"
          ]
        }
      ],
      "source": [
        "print(letter_reverser('Data analytics is cool'))"
      ]
    },
    {
      "cell_type": "markdown",
      "metadata": {
        "id": "2eXKioIsFLcT"
      },
      "source": [
        "99) Write a function that converts a string to \"leet speak\". Leet speak is a made-up internet language which you replace characters with symbols that look like those characters. For example:\n",
        "\n",
        "* _Example:_ `to_leet_speak('i am elite') == '! @M 31!73'`\n",
        "* _Hint:_ Recall what `.get()` does when called on a dictionary? Will this help you with spaces or other non-letter characters?\n",
        "\n",
        "_Note:_ This problem is borrowed from [this](https://www.codewars.com/kata/toleetspeak) wonderful Codewars challenge!\n",
        "\n",
        "Below is the English-to-leet dictionary:"
      ]
    },
    {
      "cell_type": "code",
      "execution_count": 52,
      "metadata": {
        "id": "folh289pFLcU"
      },
      "outputs": [],
      "source": [
        "LEET_DICT = {'A' : '@', 'B' : '8', 'C' : '(', 'D' : 'D', 'E' : '3',\n",
        "             'F' : 'F', 'G' : '6', 'H' : '#', 'I' : '!', 'J' : 'J',\n",
        "             'K' : 'K', 'L' : '1', 'M' : 'M', 'N' : 'N', 'O' : '0',\n",
        "             'P' : 'P', 'Q' : 'Q', 'R' : 'R', 'S' : '$', 'T' : '7',\n",
        "             'U' : 'U', 'V' : 'V', 'W' : 'W', 'X' : 'X', 'Y' : 'Y',\n",
        "             'Z' : '2'}"
      ]
    },
    {
      "cell_type": "code",
      "execution_count": 53,
      "metadata": {
        "id": "OF_CfONMFLcW"
      },
      "outputs": [],
      "source": [
        "def to_leet_speak(string):\n",
        "    return ''.join([LEET_DICT.get(i.upper(), i) for i in string])"
      ]
    },
    {
      "cell_type": "code",
      "source": [
        "print(to_leet_speak('i am elite'))"
      ],
      "metadata": {
        "id": "px10y43YWiPa",
        "colab": {
          "base_uri": "https://localhost:8080/"
        },
        "outputId": "0b17d7d7-fc81-47f5-98c3-23fd3a77adf9"
      },
      "execution_count": 54,
      "outputs": [
        {
          "output_type": "stream",
          "name": "stdout",
          "text": [
            "! @M 31!73\n"
          ]
        }
      ]
    },
    {
      "cell_type": "markdown",
      "metadata": {
        "id": "H5EPVJiQFLcX"
      },
      "source": [
        "100) Write a function that takes an integer and returns the sum of its digits.\n",
        "* _Example:_ `sum_digits(1234)` should return 10.\n",
        "* _Hint:_ You may want to look into how to convert an integer into a string, then back into an integer."
      ]
    },
    {
      "cell_type": "code",
      "execution_count": 56,
      "metadata": {
        "id": "sgKoF_QYFLcX"
      },
      "outputs": [],
      "source": [
        "def sum_digits(integer):\n",
        "    return sum([int(i) for i in str(integer)])"
      ]
    },
    {
      "cell_type": "code",
      "source": [
        "print(sum_digits(1234))"
      ],
      "metadata": {
        "id": "VEV2Z9EoWtd_",
        "colab": {
          "base_uri": "https://localhost:8080/"
        },
        "outputId": "32066fd5-0d2f-4fed-e228-a036d83a0c55"
      },
      "execution_count": 57,
      "outputs": [
        {
          "output_type": "stream",
          "name": "stdout",
          "text": [
            "10\n"
          ]
        }
      ]
    }
  ],
  "metadata": {
    "colab": {
      "provenance": [],
      "include_colab_link": true
    },
    "kernelspec": {
      "display_name": "Python 3",
      "language": "python",
      "name": "python3"
    },
    "language_info": {
      "codemirror_mode": {
        "name": "ipython",
        "version": 3
      },
      "file_extension": ".py",
      "mimetype": "text/x-python",
      "name": "python",
      "nbconvert_exporter": "python",
      "pygments_lexer": "ipython3",
      "version": "3.8.3"
    }
  },
  "nbformat": 4,
  "nbformat_minor": 0
}