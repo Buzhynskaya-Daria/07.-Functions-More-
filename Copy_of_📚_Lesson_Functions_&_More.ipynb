{
  "cells": [
    {
      "cell_type": "markdown",
      "metadata": {
        "id": "view-in-github",
        "colab_type": "text"
      },
      "source": [
        "<a href=\"https://colab.research.google.com/github/Buzhynskaya-Daria/07.-Functions-More-/blob/main/Copy_of_%F0%9F%93%9A_Lesson_Functions_%26_More.ipynb\" target=\"_parent\"><img src=\"https://colab.research.google.com/assets/colab-badge.svg\" alt=\"Open In Colab\"/></a>"
      ]
    },
    {
      "cell_type": "markdown",
      "metadata": {
        "id": "3E2D_PWb6BdA"
      },
      "source": [
        "<div>\n",
        "<img src=\"https://coursereport-s3-production.global.ssl.fastly.net/uploads/school/logo/219/original/CT_LOGO_NEW.jpg\" width=60>\n",
        "</div>\n",
        "\n",
        "#  **Functions & More**\n",
        "\n",
        "*Be sure to be following along with the lesson page before progressing in this notebook!*"
      ]
    },
    {
      "cell_type": "markdown",
      "source": [
        "## **🛝 Practice Playground** - Section 1\n",
        "To create a function in Python, you use the def keyword followed by the name of the function, a set of parentheses, and a colon. Inside the parentheses, you can optionally include parameters, which are variables that accept values passed into the function. After the colon, the function body starts, indented by one level."
      ],
      "metadata": {
        "id": "YOUiHU27y0mn"
      }
    },
    {
      "cell_type": "code",
      "execution_count": 1,
      "metadata": {
        "id": "ZvzqVRb86BdP"
      },
      "outputs": [],
      "source": [
        "# Run this cell!\n",
        "\n",
        "def greet(name):\n",
        "    print(f\"Hello, {name}!\")"
      ]
    },
    {
      "cell_type": "code",
      "execution_count": 2,
      "metadata": {
        "id": "YbetqlU_6BdP",
        "colab": {
          "base_uri": "https://localhost:8080/"
        },
        "outputId": "6162ba9e-85d6-4ef5-ad71-afb4340e9632"
      },
      "outputs": [
        {
          "output_type": "stream",
          "name": "stdout",
          "text": [
            "Hello, Alice!\n"
          ]
        }
      ],
      "source": [
        "# Run this cell!\n",
        "\n",
        "greet(\"Alice\")"
      ]
    },
    {
      "cell_type": "code",
      "source": [
        "# Run this cell!\n",
        "\n",
        "greet(\"Bob\")"
      ],
      "metadata": {
        "id": "COZbkLYTs56N",
        "colab": {
          "base_uri": "https://localhost:8080/"
        },
        "outputId": "c0c87c13-4eec-4559-e59c-d21846dbf06f"
      },
      "execution_count": 3,
      "outputs": [
        {
          "output_type": "stream",
          "name": "stdout",
          "text": [
            "Hello, Bob!\n"
          ]
        }
      ]
    },
    {
      "cell_type": "markdown",
      "source": [
        "## **🛝 Practice Playground** - Section 2\n",
        "Functions in Python can accept parameters, allowing you to pass different values to them each time they are called. Parameters act as placeholders within a function definition and are used when defining a function. When you call a function, you provide arguments, which are the actual values that replace these placeholders."
      ],
      "metadata": {
        "id": "ymC_eEixVkuW"
      }
    },
    {
      "cell_type": "code",
      "source": [
        "# Run this cell!\n",
        "\n",
        "def calculate_area(length, width):\n",
        "    area = length * width\n",
        "    return area"
      ],
      "metadata": {
        "id": "i871jVSQtfuw"
      },
      "execution_count": 4,
      "outputs": []
    },
    {
      "cell_type": "code",
      "source": [
        "# Run this cell!\n",
        "\n",
        "calculate_area(10, 5)"
      ],
      "metadata": {
        "id": "tQos8pV9Y8qI",
        "colab": {
          "base_uri": "https://localhost:8080/"
        },
        "outputId": "15f84ca8-58b8-48b3-a351-013e2e83b5d5"
      },
      "execution_count": 5,
      "outputs": [
        {
          "output_type": "execute_result",
          "data": {
            "text/plain": [
              "50"
            ]
          },
          "metadata": {},
          "execution_count": 5
        }
      ]
    },
    {
      "cell_type": "code",
      "source": [
        "# Run this cell!\n",
        "\n",
        "calculate_area(2, 10)"
      ],
      "metadata": {
        "id": "N6KpyYfBWEY5",
        "colab": {
          "base_uri": "https://localhost:8080/"
        },
        "outputId": "0bd08ef2-d129-408d-de3b-b1f5580f6494"
      },
      "execution_count": 6,
      "outputs": [
        {
          "output_type": "execute_result",
          "data": {
            "text/plain": [
              "20"
            ]
          },
          "metadata": {},
          "execution_count": 6
        }
      ]
    },
    {
      "cell_type": "code",
      "source": [
        "# Run this cell!\n",
        "\n",
        "calculate_area(width = 10, length = 2)"
      ],
      "metadata": {
        "id": "g4Kb_zsyZFI4",
        "colab": {
          "base_uri": "https://localhost:8080/"
        },
        "outputId": "98519a1a-a2c5-4cbb-f47d-6f578dcb5699"
      },
      "execution_count": 7,
      "outputs": [
        {
          "output_type": "execute_result",
          "data": {
            "text/plain": [
              "20"
            ]
          },
          "metadata": {},
          "execution_count": 7
        }
      ]
    },
    {
      "cell_type": "markdown",
      "source": [
        "## **🛝 Practice Playground** - Section 3\n",
        "Understanding the distinction between print and return in functions is crucial for effective Python programming."
      ],
      "metadata": {
        "id": "c6CWgHoz0u9r"
      }
    },
    {
      "cell_type": "code",
      "source": [
        "# Run this cell!\n",
        "\n",
        "def function_print():\n",
        "    print(\"Hello from print!\")"
      ],
      "metadata": {
        "id": "6-YXKtt4qPXV"
      },
      "execution_count": 8,
      "outputs": []
    },
    {
      "cell_type": "code",
      "source": [
        "# Run this cell!\n",
        "\n",
        "function_print()"
      ],
      "metadata": {
        "id": "5J6BJHUeaH9g",
        "colab": {
          "base_uri": "https://localhost:8080/"
        },
        "outputId": "ebe2facd-a7c0-4e0b-bce7-8ec8151a185f"
      },
      "execution_count": 9,
      "outputs": [
        {
          "output_type": "stream",
          "name": "stdout",
          "text": [
            "Hello from print!\n"
          ]
        }
      ]
    },
    {
      "cell_type": "code",
      "source": [
        "# Run this cell!\n",
        "\n",
        "result = function_print()\n",
        "result # Output: None"
      ],
      "metadata": {
        "id": "Dqjr8OFuaIVp",
        "colab": {
          "base_uri": "https://localhost:8080/"
        },
        "outputId": "f4190809-27e0-40e3-dc5b-f65118189555"
      },
      "execution_count": 10,
      "outputs": [
        {
          "output_type": "stream",
          "name": "stdout",
          "text": [
            "Hello from print!\n"
          ]
        }
      ]
    },
    {
      "cell_type": "code",
      "source": [
        "# Run this cell!\n",
        "\n",
        "def function_return():\n",
        "    return \"Hello from return!\""
      ],
      "metadata": {
        "id": "BY__DPkzaITf"
      },
      "execution_count": 11,
      "outputs": []
    },
    {
      "cell_type": "code",
      "source": [
        "# Run this cell!\n",
        "\n",
        "result = function_return()\n",
        "result"
      ],
      "metadata": {
        "id": "DayDm037cGC3",
        "colab": {
          "base_uri": "https://localhost:8080/",
          "height": 36
        },
        "outputId": "76e8fa2d-a0c4-411f-bfbf-ff87f0d49eb7"
      },
      "execution_count": 12,
      "outputs": [
        {
          "output_type": "execute_result",
          "data": {
            "text/plain": [
              "'Hello from return!'"
            ],
            "application/vnd.google.colaboratory.intrinsic+json": {
              "type": "string"
            }
          },
          "metadata": {},
          "execution_count": 12
        }
      ]
    },
    {
      "cell_type": "code",
      "source": [
        "# Run this cell!\n",
        "\n",
        "def get_double(x):\n",
        "    return x * 2"
      ],
      "metadata": {
        "id": "gwSnGGk7wVay"
      },
      "execution_count": 13,
      "outputs": []
    },
    {
      "cell_type": "code",
      "source": [
        "# Run this cell!\n",
        "\n",
        "doubled_value = get_double(10)\n",
        "doubled_value"
      ],
      "metadata": {
        "id": "xbmr-nFdcQuS",
        "colab": {
          "base_uri": "https://localhost:8080/"
        },
        "outputId": "034b78de-6bf0-4356-f803-5475ba618ce9"
      },
      "execution_count": 14,
      "outputs": [
        {
          "output_type": "execute_result",
          "data": {
            "text/plain": [
              "20"
            ]
          },
          "metadata": {},
          "execution_count": 14
        }
      ]
    },
    {
      "cell_type": "code",
      "source": [
        "# Run this cell!\n",
        "\n",
        "def get_stats(numbers):\n",
        "    return max(numbers), min(numbers), sum(numbers) / len(numbers)"
      ],
      "metadata": {
        "id": "gRbBloZ0cQn8"
      },
      "execution_count": 15,
      "outputs": []
    },
    {
      "cell_type": "code",
      "source": [
        "# Run this cell!\n",
        "\n",
        "max_val, min_val, avg_val = get_stats([1, 2, 3, 4, 5])\n",
        "\n",
        "print(f\"Maximum value: {max_val}\")\n",
        "print(f\"Minimum value: {min_val}\")\n",
        "print(f\"Average value: {avg_val}\")"
      ],
      "metadata": {
        "id": "v4zyWi3WcQli",
        "colab": {
          "base_uri": "https://localhost:8080/"
        },
        "outputId": "35904581-93d7-4791-81c5-76aa1a186732"
      },
      "execution_count": 16,
      "outputs": [
        {
          "output_type": "stream",
          "name": "stdout",
          "text": [
            "Maximum value: 5\n",
            "Minimum value: 1\n",
            "Average value: 3.0\n"
          ]
        }
      ]
    },
    {
      "cell_type": "markdown",
      "source": [
        "---"
      ],
      "metadata": {
        "id": "ysRhcsKft27B"
      }
    },
    {
      "cell_type": "markdown",
      "metadata": {
        "id": "gqQArSbM6BdE"
      },
      "source": [
        "## **🛝 Practice Playground** - Section 4\n",
        "Sometimes the best way to learn about functions is to see more and more examples of them, so let's dive into some additional examples to solidify your understanding."
      ]
    },
    {
      "cell_type": "code",
      "source": [
        "# Run this cell!\n",
        "\n",
        "def get_initials(first, last):\n",
        "    first_init = first[0].upper()\n",
        "    last_init = last[0].upper()\n",
        "    return f'{first_init}.{last_init}.'"
      ],
      "metadata": {
        "id": "LholcXPzb-Yl"
      },
      "execution_count": 17,
      "outputs": []
    },
    {
      "cell_type": "code",
      "source": [
        "# Run this cell!\n",
        "\n",
        "get_initials('katie', 'sylvia')"
      ],
      "metadata": {
        "id": "jiaSzKv5hZey",
        "colab": {
          "base_uri": "https://localhost:8080/",
          "height": 36
        },
        "outputId": "304ea21f-8cf1-403e-e56f-63351e4dc334"
      },
      "execution_count": 18,
      "outputs": [
        {
          "output_type": "execute_result",
          "data": {
            "text/plain": [
              "'K.S.'"
            ],
            "application/vnd.google.colaboratory.intrinsic+json": {
              "type": "string"
            }
          },
          "metadata": {},
          "execution_count": 18
        }
      ]
    },
    {
      "cell_type": "code",
      "source": [
        "# Run this cell!\n",
        "\n",
        "get_initials('tom', 'hanks')"
      ],
      "metadata": {
        "id": "ma9H6hXodsLe",
        "colab": {
          "base_uri": "https://localhost:8080/",
          "height": 36
        },
        "outputId": "51e2a7a7-ec1f-4462-81c6-97df02a2a412"
      },
      "execution_count": 19,
      "outputs": [
        {
          "output_type": "execute_result",
          "data": {
            "text/plain": [
              "'T.H.'"
            ],
            "application/vnd.google.colaboratory.intrinsic+json": {
              "type": "string"
            }
          },
          "metadata": {},
          "execution_count": 19
        }
      ]
    },
    {
      "cell_type": "code",
      "source": [
        "# Run this cell!\n",
        "\n",
        "def my_mean(nums):\n",
        "    total = sum(nums)\n",
        "    n = len(nums)\n",
        "    return total / n"
      ],
      "metadata": {
        "id": "sdeKYCAfdsJU"
      },
      "execution_count": 20,
      "outputs": []
    },
    {
      "cell_type": "code",
      "source": [
        "# Run this cell!\n",
        "\n",
        "my_mean([1, 3, 4, 5])"
      ],
      "metadata": {
        "id": "_e06eyeZdsHC",
        "colab": {
          "base_uri": "https://localhost:8080/"
        },
        "outputId": "553f238c-4b1a-40ad-e319-9b0b45806f23"
      },
      "execution_count": 21,
      "outputs": [
        {
          "output_type": "execute_result",
          "data": {
            "text/plain": [
              "3.25"
            ]
          },
          "metadata": {},
          "execution_count": 21
        }
      ]
    },
    {
      "cell_type": "code",
      "source": [
        "# Run this cell!\n",
        "\n",
        "my_mean([85, 92, 97, 100, 88])"
      ],
      "metadata": {
        "id": "6kpyRAE5dsEj",
        "colab": {
          "base_uri": "https://localhost:8080/"
        },
        "outputId": "09fec6cb-2ab5-42ef-b852-61110fd26699"
      },
      "execution_count": 22,
      "outputs": [
        {
          "output_type": "execute_result",
          "data": {
            "text/plain": [
              "92.4"
            ]
          },
          "metadata": {},
          "execution_count": 22
        }
      ]
    },
    {
      "cell_type": "code",
      "source": [
        "# Run this cell!\n",
        "\n",
        "def count_vowels(input_str):\n",
        "    n_vowels = 0\n",
        "    for char in input_str.lower():\n",
        "        if char in 'aeiou':\n",
        "            n_vowels += 1\n",
        "\n",
        "    return n_vowels"
      ],
      "metadata": {
        "id": "tN7e8-9pdyP3"
      },
      "execution_count": 23,
      "outputs": []
    },
    {
      "cell_type": "code",
      "source": [
        "# Run this cell!\n",
        "\n",
        "count_vowels(\"hello world\")"
      ],
      "metadata": {
        "id": "CcrFCOpFdyNs",
        "colab": {
          "base_uri": "https://localhost:8080/"
        },
        "outputId": "070f9cae-a019-4fbb-dd12-30daa10e69ca"
      },
      "execution_count": 24,
      "outputs": [
        {
          "output_type": "execute_result",
          "data": {
            "text/plain": [
              "3"
            ]
          },
          "metadata": {},
          "execution_count": 24
        }
      ]
    },
    {
      "cell_type": "code",
      "source": [
        "# Run this cell!\n",
        "\n",
        "count_vowels(\"You'll get the hang of python functions!\")"
      ],
      "metadata": {
        "id": "HYYawwzndyLd",
        "colab": {
          "base_uri": "https://localhost:8080/"
        },
        "outputId": "862c9a30-9cf6-4bc3-f749-1fb27b8c80ba"
      },
      "execution_count": 25,
      "outputs": [
        {
          "output_type": "execute_result",
          "data": {
            "text/plain": [
              "10"
            ]
          },
          "metadata": {},
          "execution_count": 25
        }
      ]
    },
    {
      "cell_type": "markdown",
      "source": [
        "## **🛝 Practice Playground** - Section 5\n",
        "\n",
        "Default parameters allow you to set default values for function arguments. These values are used if no specific value is passed during the function call. This feature enhances function flexibility, allowing it to operate under various scenarios without additional input from the user."
      ],
      "metadata": {
        "id": "xcP6OwzZnd2s"
      }
    },
    {
      "cell_type": "code",
      "source": [
        "# Run this cell!\n",
        "\n",
        "def greet(name, message=\"Hello\"):\n",
        "    return f\"{message}, {name}!\""
      ],
      "metadata": {
        "id": "fWeEjTMxnddR"
      },
      "execution_count": 26,
      "outputs": []
    },
    {
      "cell_type": "code",
      "source": [
        "# Run this cell!\n",
        "\n",
        "greet(\"Alice\")"
      ],
      "metadata": {
        "id": "Dx_K9bypf5hM",
        "colab": {
          "base_uri": "https://localhost:8080/",
          "height": 36
        },
        "outputId": "fcf82eb7-e7df-4a8c-8fb7-65c13deb7d1d"
      },
      "execution_count": 27,
      "outputs": [
        {
          "output_type": "execute_result",
          "data": {
            "text/plain": [
              "'Hello, Alice!'"
            ],
            "application/vnd.google.colaboratory.intrinsic+json": {
              "type": "string"
            }
          },
          "metadata": {},
          "execution_count": 27
        }
      ]
    },
    {
      "cell_type": "code",
      "source": [
        "# Run this cell!\n",
        "\n",
        "greet(\"Alice\", \"Hi\")"
      ],
      "metadata": {
        "id": "ebS53bx-e8W9",
        "colab": {
          "base_uri": "https://localhost:8080/",
          "height": 36
        },
        "outputId": "8e50f954-197c-4aef-97dc-6cc733c8486a"
      },
      "execution_count": 28,
      "outputs": [
        {
          "output_type": "execute_result",
          "data": {
            "text/plain": [
              "'Hi, Alice!'"
            ],
            "application/vnd.google.colaboratory.intrinsic+json": {
              "type": "string"
            }
          },
          "metadata": {},
          "execution_count": 28
        }
      ]
    },
    {
      "cell_type": "code",
      "source": [
        "# Run this cell!\n",
        "\n",
        "def describe_weather(city, temperature=75):\n",
        "    return f\"It's currently {temperature}°F in {city}.\""
      ],
      "metadata": {
        "id": "Hpko8vzDfAnD"
      },
      "execution_count": 29,
      "outputs": []
    },
    {
      "cell_type": "code",
      "source": [
        "# Run this cell!\n",
        "\n",
        "describe_weather(\"Miami\")"
      ],
      "metadata": {
        "id": "hYdVX8ZXfAlK",
        "colab": {
          "base_uri": "https://localhost:8080/",
          "height": 36
        },
        "outputId": "49230fd6-856e-427c-c549-8334598e47c7"
      },
      "execution_count": 30,
      "outputs": [
        {
          "output_type": "execute_result",
          "data": {
            "text/plain": [
              "\"It's currently 75°F in Miami.\""
            ],
            "application/vnd.google.colaboratory.intrinsic+json": {
              "type": "string"
            }
          },
          "metadata": {},
          "execution_count": 30
        }
      ]
    },
    {
      "cell_type": "code",
      "source": [
        "# Run this cell!\n",
        "\n",
        "describe_weather(\"San Francisco\", 65)"
      ],
      "metadata": {
        "id": "CaYRE65cfAjM",
        "colab": {
          "base_uri": "https://localhost:8080/",
          "height": 36
        },
        "outputId": "7703aed7-e96c-45a9-a66d-91fd058e3329"
      },
      "execution_count": 31,
      "outputs": [
        {
          "output_type": "execute_result",
          "data": {
            "text/plain": [
              "\"It's currently 65°F in San Francisco.\""
            ],
            "application/vnd.google.colaboratory.intrinsic+json": {
              "type": "string"
            }
          },
          "metadata": {},
          "execution_count": 31
        }
      ]
    },
    {
      "cell_type": "code",
      "source": [
        "# Run this cell!\n",
        "\n",
        "def power(base, exponent=2):\n",
        "    return base ** exponent"
      ],
      "metadata": {
        "id": "0tyQJYgBfAhP"
      },
      "execution_count": 32,
      "outputs": []
    },
    {
      "cell_type": "code",
      "source": [
        "# Run this cell!\n",
        "\n",
        "power(3)"
      ],
      "metadata": {
        "id": "JnxZWMdafAfF",
        "colab": {
          "base_uri": "https://localhost:8080/"
        },
        "outputId": "20e65979-4cef-4593-b816-f70b7f981a50"
      },
      "execution_count": 33,
      "outputs": [
        {
          "output_type": "execute_result",
          "data": {
            "text/plain": [
              "9"
            ]
          },
          "metadata": {},
          "execution_count": 33
        }
      ]
    },
    {
      "cell_type": "code",
      "source": [
        "# Run this cell!\n",
        "\n",
        "power(3,3)"
      ],
      "metadata": {
        "id": "clud1IYAfMRj",
        "colab": {
          "base_uri": "https://localhost:8080/"
        },
        "outputId": "73d8a1d9-50d5-49f5-90b6-a000e0b4fd1d"
      },
      "execution_count": 34,
      "outputs": [
        {
          "output_type": "execute_result",
          "data": {
            "text/plain": [
              "27"
            ]
          },
          "metadata": {},
          "execution_count": 34
        }
      ]
    },
    {
      "cell_type": "markdown",
      "source": [
        "## **🛝 Practice Playground** - Section 6\n",
        "\n",
        "Using Python libraries boosts your coding efficiency significantly, allowing you to execute complex tasks effectively and accurately with just a few lines of code. Libraries such as numpy for numerical operations, pandas for data manipulation, matplotlib for plotting graphs, and scikit-learn for machine learning are cornerstones of Python programming. And we will dive into each of these in our next few modules! There is no need to memorize all of this; just learn what is possible!"
      ],
      "metadata": {
        "id": "Zg_VJ3ljxACX"
      }
    },
    {
      "cell_type": "code",
      "source": [
        "# Run this cell!\n",
        "\n",
        "import math\n",
        "\n",
        "def calculate_circle_area(radius):\n",
        "    return math.pi * radius ** 2"
      ],
      "metadata": {
        "id": "nFuXzgbnxEMP"
      },
      "execution_count": 35,
      "outputs": []
    },
    {
      "cell_type": "code",
      "source": [
        "# Run this cell!\n",
        "\n",
        "area = calculate_circle_area(5)\n",
        "\n",
        "print(f\"The area of the circle is: {area:.2f}\")"
      ],
      "metadata": {
        "id": "UbNwPqcpxE-6",
        "colab": {
          "base_uri": "https://localhost:8080/"
        },
        "outputId": "4348c4ac-9041-4d99-b564-84a75e109600"
      },
      "execution_count": 36,
      "outputs": [
        {
          "output_type": "stream",
          "name": "stdout",
          "text": [
            "The area of the circle is: 78.54\n"
          ]
        }
      ]
    },
    {
      "cell_type": "code",
      "source": [
        "# Run this cell!\n",
        "\n",
        "from datetime import datetime\n",
        "\n",
        "def days_between(d1, d2):\n",
        "    date1 = datetime.strptime(d1, \"%Y-%m-%d\")\n",
        "    date2 = datetime.strptime(d2, \"%Y-%m-%d\")\n",
        "    return abs((date2 - date1).days)"
      ],
      "metadata": {
        "id": "AzkHOmHbxE9G"
      },
      "execution_count": 37,
      "outputs": []
    },
    {
      "cell_type": "code",
      "source": [
        "# Run this cell!\n",
        "\n",
        "days = days_between('2023-07-01', '2024-08-23')\n",
        "print(f'Number of days: {days}')"
      ],
      "metadata": {
        "id": "Pl9tTi6dxE7J",
        "colab": {
          "base_uri": "https://localhost:8080/"
        },
        "outputId": "d95216da-1fb4-4f5f-eb1a-4c68008e6d73"
      },
      "execution_count": 38,
      "outputs": [
        {
          "output_type": "stream",
          "name": "stdout",
          "text": [
            "Number of days: 419\n"
          ]
        }
      ]
    },
    {
      "cell_type": "code",
      "source": [
        "# Run this cell!\n",
        "\n",
        "import random\n",
        "\n",
        "def get_random_number(min_val, max_val):\n",
        "    # Generate a random integer between min_val and max_val\n",
        "    random_number = random.randint(min_val, max_val)\n",
        "    return random_number"
      ],
      "metadata": {
        "id": "HeVIk76lxE5T"
      },
      "execution_count": 39,
      "outputs": []
    },
    {
      "cell_type": "code",
      "source": [
        "# Run this cell!\n",
        "\n",
        "random_result = get_random_number(1, 100)\n",
        "print(f'Random number between 1 and 100: {random_result}')"
      ],
      "metadata": {
        "id": "iKGeXpEPxE1q",
        "colab": {
          "base_uri": "https://localhost:8080/"
        },
        "outputId": "56bdd8f9-a9df-47b9-bf54-44b25a713002"
      },
      "execution_count": 40,
      "outputs": [
        {
          "output_type": "stream",
          "name": "stdout",
          "text": [
            "Random number between 1 and 100: 68\n"
          ]
        }
      ]
    }
  ],
  "metadata": {
    "anaconda-cloud": {},
    "colab": {
      "provenance": [],
      "include_colab_link": true
    },
    "kernelspec": {
      "display_name": "Python 3 (ipykernel)",
      "language": "python",
      "name": "python3"
    },
    "language_info": {
      "codemirror_mode": {
        "name": "ipython",
        "version": 3
      },
      "file_extension": ".py",
      "mimetype": "text/x-python",
      "name": "python",
      "nbconvert_exporter": "python",
      "pygments_lexer": "ipython3",
      "version": "3.11.7"
    }
  },
  "nbformat": 4,
  "nbformat_minor": 0
}